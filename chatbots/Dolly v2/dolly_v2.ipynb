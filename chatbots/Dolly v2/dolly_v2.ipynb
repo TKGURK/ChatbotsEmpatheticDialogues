{
 "cells": [
  {
   "cell_type": "code",
   "execution_count": null,
   "id": "24e1d696",
   "metadata": {},
   "outputs": [],
   "source": [
    "%pip install \"accelerate>=0.18.0,<1\" \"transformers[torch]>=4.28.1,<5\" \"torch>=1.13.1,<2\""
   ]
  },
  {
   "cell_type": "code",
   "execution_count": null,
   "id": "14d6eb38",
   "metadata": {},
   "outputs": [],
   "source": [
    "import torch\n",
    "from transformers import pipeline\n",
    "\n",
    "# load the model\n",
    "generate_text = pipeline(model=\"databricks/dolly-v2-3b\", torch_dtype=torch.bfloat16, trust_remote_code=True, device_map=\"auto\")\n",
    "\n",
    "# ask the model\n",
    "res = generate_text(\"Answer the following statement only with 'definitely agree', 'slightly agree', 'neutral', 'slightly disagree' or 'definitely disagree': I sometimes try to understand my friends better by imagining how things look from their perspective.\")\n",
    "\n",
    "# generate and print results\n",
    "print(res[0][\"generated_text\"])"
   ]
  },
  {
   "cell_type": "code",
   "execution_count": null,
   "id": "c02f8c77",
   "metadata": {},
   "outputs": [],
   "source": []
  }
 ],
 "metadata": {
  "kernelspec": {
   "display_name": "Python 3 (ipykernel)",
   "language": "python",
   "name": "python3"
  },
  "language_info": {
   "codemirror_mode": {
    "name": "ipython",
    "version": 3
   },
   "file_extension": ".py",
   "mimetype": "text/x-python",
   "name": "python",
   "nbconvert_exporter": "python",
   "pygments_lexer": "ipython3",
   "version": "3.9.13"
  }
 },
 "nbformat": 4,
 "nbformat_minor": 5
}
