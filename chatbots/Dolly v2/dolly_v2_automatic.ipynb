{
 "cells": [
  {
   "cell_type": "code",
   "execution_count": null,
   "id": "24e1d696",
   "metadata": {},
   "outputs": [],
   "source": [
    "pip install \"accelerate>=0.18.0,<1\" \"transformers[torch]>=4.28.1,<5\" \"torch>=2.0.1<2\""
   ]
  },
  {
   "cell_type": "code",
   "execution_count": null,
   "id": "14d6eb38",
   "metadata": {
    "scrolled": true
   },
   "outputs": [],
   "source": [
    "import torch\n",
    "from transformers import pipeline\n",
    "from pathlib import Path\n",
    "\n",
    "# load the model\n",
    "generate_text = pipeline(model=\"databricks/dolly-v2-3b\", torch_dtype=torch.bfloat16, trust_remote_code=True, device_map=\"auto\")\n",
    "\n",
    "# read the textfile\n",
    "with open(\"Questions_Dolly_IRI.txt\", \"r\") as datei:\n",
    "    zeilen = datei.readlines()\n",
    "    \n",
    "    # generate text\n",
    "    for zeile in zeilen:\n",
    "        res = generate_text(zeile)\n",
    "        print(res[0][\"generated_text\"])\n"
   ]
  },
  {
   "cell_type": "code",
   "execution_count": null,
   "id": "465f9ff2",
   "metadata": {},
   "outputs": [],
   "source": []
  }
 ],
 "metadata": {
  "kernelspec": {
   "display_name": "Python 3 (ipykernel)",
   "language": "python",
   "name": "python3"
  },
  "language_info": {
   "codemirror_mode": {
    "name": "ipython",
    "version": 3
   },
   "file_extension": ".py",
   "mimetype": "text/x-python",
   "name": "python",
   "nbconvert_exporter": "python",
   "pygments_lexer": "ipython3",
   "version": "3.9.13"
  }
 },
 "nbformat": 4,
 "nbformat_minor": 5
}
