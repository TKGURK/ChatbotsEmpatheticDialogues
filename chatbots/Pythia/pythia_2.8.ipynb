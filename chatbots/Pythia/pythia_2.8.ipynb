{
 "cells": [
  {
   "cell_type": "code",
   "execution_count": null,
   "id": "af640643",
   "metadata": {},
   "outputs": [],
   "source": [
    "from transformers import GPTNeoXForCausalLM, AutoTokenizer\n",
    "\n",
    "# select model\n",
    "model = GPTNeoXForCausalLM.from_pretrained(\n",
    "  \"EleutherAI/pythia-2.8b-deduped\",\n",
    "  revision=\"step3000\",\n",
    "  cache_dir=\"./pythia-2.8b-deduped/step3000\",\n",
    ")\n",
    "\n",
    "# select tokenizer\n",
    "tokenizer = AutoTokenizer.from_pretrained(\n",
    "  \"EleutherAI/pythia-2.8b-deduped\",\n",
    "  revision=\"step3000\",\n",
    "  cache_dir=\"./pythia-2.8b-deduped/step3000\",\n",
    ")\n",
    "\n",
    "# generate answer with 100 characters\n",
    "inputs = tokenizer(\"Do you think it is wise to tell your secrets?\", return_tensors=\"pt\")\n",
    "tokens = model.generate(**inputs, max_length=100)\n",
    "tokenizer.decode(tokens[0])\n"
   ]
  },
  {
   "cell_type": "code",
   "execution_count": null,
   "id": "013a0ddf",
   "metadata": {},
   "outputs": [],
   "source": []
  }
 ],
 "metadata": {
  "kernelspec": {
   "display_name": "Python 3 (ipykernel)",
   "language": "python",
   "name": "python3"
  },
  "language_info": {
   "codemirror_mode": {
    "name": "ipython",
    "version": 3
   },
   "file_extension": ".py",
   "mimetype": "text/x-python",
   "name": "python",
   "nbconvert_exporter": "python",
   "pygments_lexer": "ipython3",
   "version": "3.9.13"
  }
 },
 "nbformat": 4,
 "nbformat_minor": 5
}
