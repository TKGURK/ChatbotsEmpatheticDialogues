{
 "cells": [
  {
   "cell_type": "code",
   "execution_count": null,
   "id": "0cebb986",
   "metadata": {},
   "outputs": [],
   "source": [
    "pip install bardapi"
   ]
  },
  {
   "cell_type": "code",
   "execution_count": null,
   "id": "942e5d56",
   "metadata": {},
   "outputs": [],
   "source": [
    "pip install git+https://github.com/dsdanielpark/Bard-API.git"
   ]
  },
  {
   "cell_type": "code",
   "execution_count": null,
   "id": "ac53d1e9",
   "metadata": {},
   "outputs": [],
   "source": [
    "pip install bardapi==0.1.23a\n"
   ]
  },
  {
   "cell_type": "code",
   "execution_count": null,
   "id": "00f2d41e",
   "metadata": {},
   "outputs": [],
   "source": [
    "pip install --upgrade GoogleBard"
   ]
  },
  {
   "cell_type": "code",
   "execution_count": null,
   "id": "a61bccf8",
   "metadata": {},
   "outputs": [],
   "source": [
    "from bardapi import Bard\n",
    "\n",
    "# use your cookie as token\n",
    "token = 'XXXXX.'\n",
    "bard = Bard(token=token)\n",
    "\n",
    "# read the textfile\n",
    "with open(\"Questions_Bard_IRI.txt\", \"r\") as datei:\n",
    "    zeilen = datei.readlines()\n",
    "    \n",
    "    # generate and print the answer\n",
    "    for zeile in zeilen:\n",
    "        print(bard.get_answer(zeile)['content'])\n",
    "        print(\"------------------- nächste Frage -------------------------\")\n"
   ]
  },
  {
   "cell_type": "code",
   "execution_count": null,
   "id": "b699b252",
   "metadata": {},
   "outputs": [],
   "source": []
  }
 ],
 "metadata": {
  "kernelspec": {
   "display_name": "Python 3 (ipykernel)",
   "language": "python",
   "name": "python3"
  },
  "language_info": {
   "codemirror_mode": {
    "name": "ipython",
    "version": 3
   },
   "file_extension": ".py",
   "mimetype": "text/x-python",
   "name": "python",
   "nbconvert_exporter": "python",
   "pygments_lexer": "ipython3",
   "version": "3.9.13"
  }
 },
 "nbformat": 4,
 "nbformat_minor": 5
}
