{
 "cells": [
  {
   "cell_type": "code",
   "execution_count": null,
   "metadata": {},
   "outputs": [],
   "source": [
    "pip install transformers"
   ]
  },
  {
   "cell_type": "code",
   "execution_count": null,
   "metadata": {},
   "outputs": [],
   "source": [
    "from transformers import GPT2LMHeadModel, GPT2Tokenizer\n",
    "\n",
    "# Load the model\n",
    "tokenizer = GPT2Tokenizer.from_pretrained(\"gpt2\")\n",
    "model = GPT2LMHeadModel.from_pretrained(\"gpt2\")\n",
    "\n",
    "# Read the textfile\n",
    "with open(\"Questions_GPT-2_IRI.txt\", \"r\") as datei:\n",
    "    zeilen = datei.readlines()\n",
    "    \n",
    "    # Asking GPT-2\n",
    "    for zeile in zeilen:\n",
    "        input_text = zeile\n",
    "        input_ids = tokenizer.encode(input_text, return_tensors='pt')\n",
    "        \n",
    "        # Generate text\n",
    "        output = model.generate(input_ids, max_length=150)\n",
    "        \n",
    "        # Decode the generated text\n",
    "        output_text = tokenizer.decode(output[0], skip_special_tokens=True)\n",
    "        print(output_text)\n"
   ]
  },
  {
   "cell_type": "code",
   "execution_count": null,
   "metadata": {},
   "outputs": [],
   "source": []
  }
 ],
 "metadata": {
  "kernelspec": {
   "display_name": "Python 3 (ipykernel)",
   "language": "python",
   "name": "python3"
  },
  "language_info": {
   "codemirror_mode": {
    "name": "ipython",
    "version": 3
   },
   "file_extension": ".py",
   "mimetype": "text/x-python",
   "name": "python",
   "nbconvert_exporter": "python",
   "pygments_lexer": "ipython3",
   "version": "3.9.13"
  }
 },
 "nbformat": 4,
 "nbformat_minor": 2
}
